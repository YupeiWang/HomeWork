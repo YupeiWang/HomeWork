{
  "nbformat": 4,
  "nbformat_minor": 0,
  "metadata": {
    "colab": {
      "name": "Untitled14.ipynb",
      "provenance": []
    },
    "kernelspec": {
      "name": "python3",
      "display_name": "Python 3"
    }
  },
  "cells": [
    {
      "cell_type": "code",
      "metadata": {
        "id": "26A5W5JD51BO",
        "colab_type": "code",
        "colab": {
          "base_uri": "https://localhost:8080/",
          "height": 399
        },
        "outputId": "5fcade12-d49c-4901-f6c4-653ba4a2c2ec"
      },
      "source": [
        "!wget \"https://raw.githubusercontent.com/AllenDowney/ThinkDSP/master/code/thinkdsp.py\"\n",
        "!wget \"https://raw.githubusercontent.com/AllenDowney/ThinkDSP/master/code/thinkplot.py\""
      ],
      "execution_count": 1,
      "outputs": [
        {
          "output_type": "stream",
          "text": [
            "--2020-04-16 12:12:30--  https://raw.githubusercontent.com/AllenDowney/ThinkDSP/master/code/thinkdsp.py\n",
            "Resolving raw.githubusercontent.com (raw.githubusercontent.com)... 151.101.0.133, 151.101.64.133, 151.101.128.133, ...\n",
            "Connecting to raw.githubusercontent.com (raw.githubusercontent.com)|151.101.0.133|:443... connected.\n",
            "HTTP request sent, awaiting response... 200 OK\n",
            "Length: 47512 (46K) [text/plain]\n",
            "Saving to: ‘thinkdsp.py’\n",
            "\n",
            "\rthinkdsp.py           0%[                    ]       0  --.-KB/s               \rthinkdsp.py         100%[===================>]  46.40K  --.-KB/s    in 0.02s   \n",
            "\n",
            "2020-04-16 12:12:31 (2.24 MB/s) - ‘thinkdsp.py’ saved [47512/47512]\n",
            "\n",
            "--2020-04-16 12:12:32--  https://raw.githubusercontent.com/AllenDowney/ThinkDSP/master/code/thinkplot.py\n",
            "Resolving raw.githubusercontent.com (raw.githubusercontent.com)... 151.101.0.133, 151.101.64.133, 151.101.128.133, ...\n",
            "Connecting to raw.githubusercontent.com (raw.githubusercontent.com)|151.101.0.133|:443... connected.\n",
            "HTTP request sent, awaiting response... 200 OK\n",
            "Length: 22756 (22K) [text/plain]\n",
            "Saving to: ‘thinkplot.py’\n",
            "\n",
            "thinkplot.py        100%[===================>]  22.22K  --.-KB/s    in 0.01s   \n",
            "\n",
            "2020-04-16 12:12:32 (2.00 MB/s) - ‘thinkplot.py’ saved [22756/22756]\n",
            "\n"
          ],
          "name": "stdout"
        }
      ]
    },
    {
      "cell_type": "code",
      "metadata": {
        "id": "szATZk6F579G",
        "colab_type": "code",
        "colab": {}
      },
      "source": [
        "from __future__ import print_function, division\n",
        "\n",
        "%matplotlib inline\n",
        "\n",
        "import thinkdsp\n",
        "import thinkplot\n",
        "\n",
        "from ipywidgets import interact, interactive, fixed\n",
        "import ipywidgets as widgets\n",
        "from IPython.display import display"
      ],
      "execution_count": 0,
      "outputs": []
    },
    {
      "cell_type": "code",
      "metadata": {
        "id": "FVzr2pgI5-o7",
        "colab_type": "code",
        "colab": {}
      },
      "source": [
        "def filter_spectrum(spectrum):\n",
        "    spectrum.hs /= spectrum.fs\n",
        "    spectrum.hs[0] = 0"
      ],
      "execution_count": 0,
      "outputs": []
    },
    {
      "cell_type": "code",
      "metadata": {
        "id": "VmilPNxT6AfW",
        "colab_type": "code",
        "colab": {
          "base_uri": "https://localhost:8080/",
          "height": 75
        },
        "outputId": "dd8d1bb2-29ad-4a75-d7fc-1c8877f768b0"
      },
      "source": [
        "wave = thinkdsp.TriangleSignal(freq=440).make_wave(duration=0.5)\n",
        "wave.make_audio()"
      ],
      "execution_count": 4,
      "outputs": [
        {
          "output_type": "execute_result",
          "data": {
            "text/html": [
              "\n",
              "                <audio controls=\"controls\" >\n",
              "                    <source src=\"data:audio/wav;base64,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\" type=\"audio/wav\" />\n",
              "                    Your browser does not support the audio element.\n",
              "                </audio>\n",
              "              "
            ],
            "text/plain": [
              "<IPython.lib.display.Audio object>"
            ]
          },
          "metadata": {
            "tags": []
          },
          "execution_count": 4
        }
      ]
    },
    {
      "cell_type": "code",
      "metadata": {
        "id": "Bu6CMEwr6Dj6",
        "colab_type": "code",
        "colab": {
          "base_uri": "https://localhost:8080/",
          "height": 335
        },
        "outputId": "63f6b436-13e7-4d4c-e857-1f9657b65d2d"
      },
      "source": [
        "high = 10000\n",
        "spectrum = wave.make_spectrum()\n",
        "spectrum.plot(high=high, color='gray')\n",
        "filter_spectrum(spectrum)\n",
        "spectrum.scale(440)\n",
        "spectrum.plot(high=high)"
      ],
      "execution_count": 5,
      "outputs": [
        {
          "output_type": "stream",
          "text": [
            "/usr/local/lib/python3.6/dist-packages/ipykernel_launcher.py:2: RuntimeWarning: divide by zero encountered in true_divide\n",
            "  \n",
            "/usr/local/lib/python3.6/dist-packages/ipykernel_launcher.py:2: RuntimeWarning: invalid value encountered in true_divide\n",
            "  \n"
          ],
          "name": "stderr"
        },
        {
          "output_type": "display_data",
          "data": {
            "image/png": "[encoded data removed]",
            "text/plain": [
              "<Figure size 432x288 with 1 Axes>"
            ]
          },
          "metadata": {
            "tags": [],
            "needs_background": "light"
          }
        }
      ]
    },
    {
      "cell_type": "code",
      "metadata": {
        "id": "tNvbqcXx6GJW",
        "colab_type": "code",
        "colab": {
          "base_uri": "https://localhost:8080/",
          "height": 75
        },
        "outputId": "9d85023e-2550-4d06-bd4e-e314b3c11890"
      },
      "source": [
        "filtered = spectrum.make_wave()\n",
        "filtered.make_audio()"
      ],
      "execution_count": 6,
      "outputs": [
        {
          "output_type": "execute_result",
          "data": {
            "text/html": [
              "\n",
              "                <audio controls=\"controls\" >\n",
              "                    <source src=\"data:audio/wav;base64,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\" type=\"audio/wav\" />\n",
              "                    Your browser does not support the audio element.\n",
              "                </audio>\n",
              "              "
            ],
            "text/plain": [
              "<IPython.lib.display.Audio object>"
            ]
          },
          "metadata": {
            "tags": []
          },
          "execution_count": 6
        }
      ]
    }
  ]
}