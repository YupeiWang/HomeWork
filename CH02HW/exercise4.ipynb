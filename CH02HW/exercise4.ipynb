{
  "nbformat": 4,
  "nbformat_minor": 0,
  "metadata": {
    "colab": {
      "name": "Untitled4.ipynb",
      "provenance": []
    },
    "kernelspec": {
      "name": "python3",
      "display_name": "Python 3"
    }
  },
  "cells": [
    {
      "cell_type": "code",
      "metadata": {
        "id": "Jcd9Z_aYWDRC",
        "colab_type": "code",
        "colab": {
          "base_uri": "https://localhost:8080/",
          "height": 399
        },
        "outputId": "7ee5518e-e0ef-42e5-d2c8-73a6095440a6"
      },
      "source": [
        "!wget \"https://raw.githubusercontent.com/AllenDowney/ThinkDSP/master/code/thinkdsp.py\"\n",
        "!wget \"https://raw.githubusercontent.com/AllenDowney/ThinkDSP/master/code/thinkplot.py\""
      ],
      "execution_count": 4,
      "outputs": [
        {
          "output_type": "stream",
          "text": [
            "--2020-04-06 16:35:58--  https://raw.githubusercontent.com/AllenDowney/ThinkDSP/master/code/thinkdsp.py\n",
            "Resolving raw.githubusercontent.com (raw.githubusercontent.com)... 151.101.0.133, 151.101.64.133, 151.101.128.133, ...\n",
            "Connecting to raw.githubusercontent.com (raw.githubusercontent.com)|151.101.0.133|:443... connected.\n",
            "HTTP request sent, awaiting response... 200 OK\n",
            "Length: 47674 (47K) [text/plain]\n",
            "Saving to: ‘thinkdsp.py’\n",
            "\n",
            "thinkdsp.py         100%[===================>]  46.56K   293KB/s    in 0.2s    \n",
            "\n",
            "2020-04-06 16:35:58 (293 KB/s) - ‘thinkdsp.py’ saved [47674/47674]\n",
            "\n",
            "--2020-04-06 16:36:00--  https://raw.githubusercontent.com/AllenDowney/ThinkDSP/master/code/thinkplot.py\n",
            "Resolving raw.githubusercontent.com (raw.githubusercontent.com)... 151.101.0.133, 151.101.64.133, 151.101.128.133, ...\n",
            "Connecting to raw.githubusercontent.com (raw.githubusercontent.com)|151.101.0.133|:443... connected.\n",
            "HTTP request sent, awaiting response... 200 OK\n",
            "Length: 22756 (22K) [text/plain]\n",
            "Saving to: ‘thinkplot.py’\n",
            "\n",
            "thinkplot.py        100%[===================>]  22.22K  --.-KB/s    in 0.08s   \n",
            "\n",
            "2020-04-06 16:36:01 (286 KB/s) - ‘thinkplot.py’ saved [22756/22756]\n",
            "\n"
          ],
          "name": "stdout"
        }
      ]
    },
    {
      "cell_type": "code",
      "metadata": {
        "id": "sejI7DQdWV1r",
        "colab_type": "code",
        "colab": {}
      },
      "source": [
        "from __future__ import print_function, division\n",
        "\n",
        "%matplotlib inline\n",
        "\n",
        "import thinkdsp\n",
        "import thinkplot\n",
        "\n",
        "from ipywidgets import interact, interactive, fixed\n",
        "import ipywidgets as widgets\n",
        "from IPython.display import display"
      ],
      "execution_count": 0,
      "outputs": []
    },
    {
      "cell_type": "code",
      "metadata": {
        "id": "lPZbzGeiWZIn",
        "colab_type": "code",
        "colab": {
          "base_uri": "https://localhost:8080/",
          "height": 283
        },
        "outputId": "f46bd7bc-a4b5-4ee2-96a1-231d7c8004aa"
      },
      "source": [
        "import matplotlib.pyplot as pl\n",
        "import thinkdsp as td\n",
        "\n",
        "x= td.CosSignal(freq=1100) \n",
        "w= x.make_wave(framerate=10000)\n",
        "s= w.make_spectrum()\n",
        "s.plot()\n",
        "s.hs[0]"
      ],
      "execution_count": 6,
      "outputs": [
        {
          "output_type": "execute_result",
          "data": {
            "text/plain": [
              "(-9.06671917814667e-14+0j)"
            ]
          },
          "metadata": {
            "tags": []
          },
          "execution_count": 6
        },
        {
          "output_type": "display_data",
          "data": {
            "image/png": "[encoded data removed]",
            "text/plain": [
              "<Figure size 432x288 with 1 Axes>"
            ]
          },
          "metadata": {
            "tags": []
          }
        }
      ]
    },
    {
      "cell_type": "code",
      "metadata": {
        "id": "hgkN2VO0WcmY",
        "colab_type": "code",
        "colab": {
          "base_uri": "https://localhost:8080/",
          "height": 265
        },
        "outputId": "76e9e35c-f8a6-44af-af45-0ad54645d38c"
      },
      "source": [
        "s.hs[0]=5000\n",
        "s.plot()"
      ],
      "execution_count": 7,
      "outputs": [
        {
          "output_type": "display_data",
          "data": {
            "image/png": "[encoded data removed]",
            "text/plain": [
              "<Figure size 432x288 with 1 Axes>"
            ]
          },
          "metadata": {
            "tags": []
          }
        }
      ]
    },
    {
      "cell_type": "code",
      "metadata": {
        "id": "KG7fL-CKWfdF",
        "colab_type": "code",
        "colab": {
          "base_uri": "https://localhost:8080/",
          "height": 265
        },
        "outputId": "ef159b51-c4f7-4da6-efcd-f05173459ba1"
      },
      "source": [
        "w0= s.make_wave()\n",
        "w0.plot()"
      ],
      "execution_count": 10,
      "outputs": [
        {
          "output_type": "display_data",
          "data": {
            "image/png": "[encoded data removed]",
            "text/plain": [
              "<Figure size 432x288 with 1 Axes>"
            ]
          },
          "metadata": {
            "tags": []
          }
        }
      ]
    },
    {
      "cell_type": "code",
      "metadata": {
        "id": "EnLpzldyWizw",
        "colab_type": "code",
        "colab": {
          "base_uri": "https://localhost:8080/",
          "height": 265
        },
        "outputId": "5fc80b01-6373-4084-a615-26110185539f"
      },
      "source": [
        "w.plot() "
      ],
      "execution_count": 9,
      "outputs": [
        {
          "output_type": "display_data",
          "data": {
            "image/png": "[encoded data removed]",
            "text/plain": [
              "<Figure size 432x288 with 1 Axes>"
            ]
          },
          "metadata": {
            "tags": []
          }
        }
      ]
    }
  ]
}